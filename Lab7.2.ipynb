{
 "cells": [
  {
   "cell_type": "markdown",
   "source": [
    "# Lab 7: Thin Lens Online Lab <br />\n",
    "Alex Jones <br>\n",
    "PHYS-112<br>\n",
    "Dr. A.M. Barr\n",
    "\n",
    "## Part 1.1\n",
    "\n",
    "1. Take a screen grab or make a sketch of your setup showing \n",
    "the laser, prism, and laser beam."
   ],
   "metadata": {
    "collapsed": false
   }
  },
  {
   "cell_type": "code",
   "execution_count": null,
   "outputs": [],
   "source": [
    "from IPython.display import Image\n",
    "Image[filename-\"\",width=X, height=X]\n"
   ],
   "metadata": {
    "collapsed": false,
    "pycharm": {
     "name": "#%%\n"
    }
   }
  },
  {
   "cell_type": "markdown",
   "source": [
    "2. Label your critical angle value on your diagram. \n",
    "DO NOT label every angle; I specifically want to see that \n",
    "you can correctly identify the critical angle. \n",
    "\n",
    "Critical angle = 28.5 degrees"
   ],
   "metadata": {
    "collapsed": false
   }
  },
  {
   "cell_type": "code",
   "execution_count": null,
   "outputs": [],
   "source": [
    "from IPython.display import Image\n",
    "Image[filename-\"\",width=X, height=X]"
   ],
   "metadata": {
    "collapsed": false,
    "pycharm": {
     "name": "#%%\n"
    }
   }
  },
  {
   "cell_type": "markdown",
   "source": [
    "3. Use your critical angle value and the fact that the prism is\n",
    "surrounded by air together with Snell’s law to calculate an \n",
    "index of refraction value for your prism. Show your calculation. \n",
    "\n",
    "Snell's Law: <br />\n",
    "$ \\frac{sin(\\theta_2)}{sin(\\theta_1)} = \\frac{n_1}{n_2} $ \n",
    "or $sin(\\theta_1) n_1 = sin(\\theta_2)n_2$ \n",
    "<br /><br />\n",
    "Where $\\theta_1 = 42^{\\circ} , \\theta_2 = 90^{\\circ} , \n",
    "n_{air} = 1.0 , n_{prism} = unknown$"
   ],
   "metadata": {
    "collapsed": false
   }
  },
  {
   "cell_type": "code",
   "execution_count": 2,
   "outputs": [
    {
     "traceback": [
      "\u001b[0;31m---------------------------------------------------------------------------\u001b[0m",
      "\u001b[0;31mAttributeError\u001b[0m                            Traceback (most recent call last)",
      "\u001b[0;32m<ipython-input-2-6e4ed6d65710>\u001b[0m in \u001b[0;36m<module>\u001b[0;34m\u001b[0m\n\u001b[1;32m      3\u001b[0m \u001b[0mn_air\u001b[0m \u001b[0;34m=\u001b[0m \u001b[0;36m1.0\u001b[0m\u001b[0;34m\u001b[0m\u001b[0;34m\u001b[0m\u001b[0m\n\u001b[1;32m      4\u001b[0m \u001b[0;34m\u001b[0m\u001b[0m\n\u001b[0;32m----> 5\u001b[0;31m \u001b[0mn_prism\u001b[0m \u001b[0;34m=\u001b[0m \u001b[0;34m(\u001b[0m\u001b[0mtheta_1\u001b[0m\u001b[0;34m.\u001b[0m\u001b[0msin\u001b[0m\u001b[0;34m(\u001b[0m\u001b[0;34m)\u001b[0m\u001b[0;34m*\u001b[0m\u001b[0mn_air\u001b[0m\u001b[0;34m)\u001b[0m \u001b[0;34m/\u001b[0m \u001b[0mtheta_2\u001b[0m\u001b[0;34m.\u001b[0m\u001b[0msin\u001b[0m\u001b[0;34m(\u001b[0m\u001b[0;34m)\u001b[0m\u001b[0;34m\u001b[0m\u001b[0;34m\u001b[0m\u001b[0m\n\u001b[0m\u001b[1;32m      6\u001b[0m \u001b[0mprint\u001b[0m\u001b[0;34m(\u001b[0m\u001b[0;34m\"The prism's index of refraction is \"\u001b[0m \u001b[0;34m+\u001b[0m \u001b[0mstr\u001b[0m\u001b[0;34m(\u001b[0m\u001b[0mn_prism\u001b[0m\u001b[0;34m)\u001b[0m\u001b[0;34m)\u001b[0m\u001b[0;34m\u001b[0m\u001b[0;34m\u001b[0m\u001b[0m\n\u001b[1;32m      7\u001b[0m \u001b[0;34m\u001b[0m\u001b[0m\n",
      "\u001b[0;31mAttributeError\u001b[0m: 'int' object has no attribute 'sin'"
     ],
     "ename": "AttributeError",
     "evalue": "'int' object has no attribute 'sin'",
     "output_type": "error"
    }
   ],
   "source": [
    "theta_1 = 42\n",
    "theta_2 = 90\n",
    "n_air = 1.0\n",
    "\n",
    "n_prism = (theta_1.sin()*n_air) / theta_2.sin()\n",
    "print(\"The prism's index of refraction is \" + str(n_prism))"
   ],
   "metadata": {
    "collapsed": false,
    "pycharm": {
     "name": "#%% Calculation Code Block \n",
     "is_executing": false
    }
   }
  },
  {
   "cell_type": "markdown",
   "source": [
    "\n",
    "## Part 1.2\n",
    "4. Sketch the incident beam, prism, and rainbow labeling which side of the rainbow is red light\n",
    "and which side is purple light.\n",
    "\n",
    "#### Difference between refraction and diffraction rainbows:\n",
    "The diffraction rainbows were symmetrical in their colors from the outside <br />\n",
    "leading from the center. With the refraction rainbow, we saw that it <br />\n",
    "would show only one set of colors, whre the lower wavelength light (red) <br />\n",
    "was near the normaled angle of refraction."
   ],
   "metadata": {
    "collapsed": false
   }
  },
  {
   "cell_type": "markdown",
   "source": [
    "# Part 2\n",
    "5. What do you see on the screen when it is positioned at the image location?<br />  \n",
    "What do you see when the screen is closer or further from the lens than the image <br />\n",
    "location?\n",
    "Ans: When the screen is placed at the image location, we see a crisp portrayal<br />\n",
    "of the original image on the virtual side. When it is closer or further, we see a larger<br />\n",
    "portrayal of the image which is less bright and less focused.\n",
    " \n",
    "6. Use the ruler to measure object and image distances and use the thin lens equation<br />\n",
    "to calculate the lens focal length. Show your values and calculations.\n",
    "d_o = 168cm\n",
    "d_i = 132cm\n",
    "f_measured = 72 cm\n",
    "f_calculated = 73.92"
   ],
   "metadata": {
    "collapsed": false
   }
  },
  {
   "cell_type": "code",
   "execution_count": null,
   "outputs": [],
   "source": [],
   "metadata": {
    "collapsed": false,
    "pycharm": {
     "name": "#%% Calculations for 6\n"
    }
   }
  },
  {
   "cell_type": "markdown",
   "source": [
    "7. Use the ruler to measure the focal length directly and compare to your result above.\n",
    "f_measured = 72 cm\n",
    "\n",
    "8. Increase and decrease the lens diameter (i.e. the lens height). How does this effect the image?<br />\n",
    "Explain why this happens (clicking the Many Rays box might help you explain your result).<br />\n",
    "The image remains the same in its representation on the screen. This is because the point source's<br />\n",
    "rays are refracted to the same image point, causing the projected intensity to scale with diameter. (expand)\n",
    "\n",
    "9. Move the object closer to the lens than the focal point and click the virtual image box to<br />\n",
    "show the virtual image. Measure the image and object distance and again use the thin lens<br />\n",
    "equation to calculate the focal length. Show your values and calculations.<br /><br />\n",
    "dp_o/dp_i/d_i = 128cm\n",
    "d_o = 44.5 cm\n",
    "f = 68.7975\n",
    "\n",
    "10. In the video, what evidence do they point to as proof that you are seeing the image when you\n",
    "look through the lens and not just seeing the object? Try to list two pieces of evidence. \n",
    "\n",
    "\n"
   ],
   "metadata": {
    "collapsed": false
   }
  }
 ],
 "metadata": {
  "kernelspec": {
   "display_name": "Python 3",
   "language": "python",
   "name": "python3"
  },
  "language_info": {
   "codemirror_mode": {
    "name": "ipython",
    "version": 2
   },
   "file_extension": ".py",
   "mimetype": "text/x-python",
   "name": "python",
   "nbconvert_exporter": "python",
   "pygments_lexer": "ipython2",
   "version": "2.7.6"
  },
  "pycharm": {
   "stem_cell": {
    "cell_type": "raw",
    "source": [
     "\n",
     "\n"
    ],
    "metadata": {
     "collapsed": false
    }
   }
  }
 },
 "nbformat": 4,
 "nbformat_minor": 0
}